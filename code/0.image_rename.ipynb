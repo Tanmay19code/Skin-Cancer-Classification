{
 "cells": [
  {
   "cell_type": "code",
   "execution_count": 1,
   "metadata": {},
   "outputs": [],
   "source": [
    "import numpy as np\n",
    "import matplotlib.pyplot as plt\n",
    "import matplotlib.image as mpimg\n",
    "import matplotlib.patches as mpatches\n",
    "import pandas as pd\n",
    "import seaborn as sns\n",
    "import os\n",
    "import cv2"
   ]
  },
  {
   "cell_type": "code",
   "execution_count": 5,
   "metadata": {},
   "outputs": [],
   "source": [
    "basal_cell_carcinoma_train = os.listdir('../dataset/Skin cancer ISIC The International Skin Imaging Collaboration/Train/basal cell carcinoma/')\n",
    "\n",
    "# read all the images in the folder and rename them as IMG-1, IMG-2, IMG-3, etc. and replace the original images\n",
    "\n",
    "for i in range(len(basal_cell_carcinoma_train)):\n",
    "    img = cv2.imread('../dataset/Skin cancer ISIC The International Skin Imaging Collaboration/Train/basal cell carcinoma/' + basal_cell_carcinoma_train[i])\n",
    "    cv2.imwrite('../dataset/Skin cancer ISIC The International Skin Imaging Collaboration/Train/basal cell carcinoma/IMG-' + str(i+1) + '.jpg', img)\n",
    "    os.remove('../dataset/Skin cancer ISIC The International Skin Imaging Collaboration/Train/basal cell carcinoma/' + basal_cell_carcinoma_train[i])"
   ]
  },
  {
   "cell_type": "code",
   "execution_count": 6,
   "metadata": {},
   "outputs": [],
   "source": [
    "actinic_keratosis_train = os.listdir('../dataset/Skin cancer ISIC The International Skin Imaging Collaboration/Train/actinic keratosis/')\n",
    "\n",
    "for i in range(len(actinic_keratosis_train)):\n",
    "    img = cv2.imread('../dataset/Skin cancer ISIC The International Skin Imaging Collaboration/Train/actinic keratosis/' + actinic_keratosis_train[i])\n",
    "    cv2.imwrite('../dataset/Skin cancer ISIC The International Skin Imaging Collaboration/Train/actinic keratosis/IMG-' + str(i+1) + '.jpg', img)\n",
    "    os.remove('../dataset/Skin cancer ISIC The International Skin Imaging Collaboration/Train/actinic keratosis/' + actinic_keratosis_train[i])"
   ]
  },
  {
   "cell_type": "code",
   "execution_count": 7,
   "metadata": {},
   "outputs": [],
   "source": [
    "dermatofioma_train = os.listdir('../dataset/Skin cancer ISIC The International Skin Imaging Collaboration/Train/dermatofibroma/')\n",
    "for i in range(len(dermatofioma_train)):\n",
    "    img = cv2.imread('../dataset/Skin cancer ISIC The International Skin Imaging Collaboration/Train/dermatofibroma/' + dermatofioma_train[i])\n",
    "    cv2.imwrite('../dataset/Skin cancer ISIC The International Skin Imaging Collaboration/Train/dermatofibroma/IMG-' + str(i+1) + '.jpg', img)\n",
    "    os.remove('../dataset/Skin cancer ISIC The International Skin Imaging Collaboration/Train/dermatofibroma/' + dermatofioma_train[i])"
   ]
  },
  {
   "cell_type": "code",
   "execution_count": 8,
   "metadata": {},
   "outputs": [],
   "source": [
    "melaoma_train = os.listdir('../dataset/Skin cancer ISIC The International Skin Imaging Collaboration/Train/melanoma/')\n",
    "for i in range(len(melaoma_train)):\n",
    "    img = cv2.imread('../dataset/Skin cancer ISIC The International Skin Imaging Collaboration/Train/melanoma/' + melaoma_train[i])\n",
    "    cv2.imwrite('../dataset/Skin cancer ISIC The International Skin Imaging Collaboration/Train/melanoma/IMG-' + str(i+1) + '.jpg', img)\n",
    "    os.remove('../dataset/Skin cancer ISIC The International Skin Imaging Collaboration/Train/melanoma/' + melaoma_train[i])"
   ]
  },
  {
   "cell_type": "code",
   "execution_count": 9,
   "metadata": {},
   "outputs": [],
   "source": [
    "nevus_train = os.listdir('../dataset/Skin cancer ISIC The International Skin Imaging Collaboration/Train/nevus/')\n",
    "\n",
    "for i in range(len(nevus_train)):\n",
    "    img = cv2.imread('../dataset/Skin cancer ISIC The International Skin Imaging Collaboration/Train/nevus/' + nevus_train[i])\n",
    "    cv2.imwrite('../dataset/Skin cancer ISIC The International Skin Imaging Collaboration/Train/nevus/IMG-' + str(i+1) + '.jpg', img)\n",
    "    os.remove('../dataset/Skin cancer ISIC The International Skin Imaging Collaboration/Train/nevus/' + nevus_train[i])"
   ]
  },
  {
   "cell_type": "code",
   "execution_count": 10,
   "metadata": {},
   "outputs": [],
   "source": [
    "pigmented_benign_keratosis_train = os.listdir('../dataset/Skin cancer ISIC The International Skin Imaging Collaboration/Train/pigmented benign keratosis/')\n",
    "for i in range(len(pigmented_benign_keratosis_train)):\n",
    "    img = cv2.imread('../dataset/Skin cancer ISIC The International Skin Imaging Collaboration/Train/pigmented benign keratosis/' + pigmented_benign_keratosis_train[i])\n",
    "    cv2.imwrite('../dataset/Skin cancer ISIC The International Skin Imaging Collaboration/Train/pigmented benign keratosis/IMG-' + str(i+1) + '.jpg', img)\n",
    "    os.remove('../dataset/Skin cancer ISIC The International Skin Imaging Collaboration/Train/pigmented benign keratosis/' + pigmented_benign_keratosis_train[i])"
   ]
  },
  {
   "cell_type": "code",
   "execution_count": 11,
   "metadata": {},
   "outputs": [],
   "source": [
    "seborrheic_keratosis_train = os.listdir('../dataset/Skin cancer ISIC The International Skin Imaging Collaboration/Train/seborrheic keratosis/')\n",
    "for i in range(len(seborrheic_keratosis_train)):\n",
    "    img = cv2.imread('../dataset/Skin cancer ISIC The International Skin Imaging Collaboration/Train/seborrheic keratosis/' + seborrheic_keratosis_train[i])\n",
    "    cv2.imwrite('../dataset/Skin cancer ISIC The International Skin Imaging Collaboration/Train/seborrheic keratosis/IMG-' + str(i+1) + '.jpg', img)\n",
    "    os.remove('../dataset/Skin cancer ISIC The International Skin Imaging Collaboration/Train/seborrheic keratosis/' + seborrheic_keratosis_train[i])"
   ]
  },
  {
   "cell_type": "code",
   "execution_count": 12,
   "metadata": {},
   "outputs": [],
   "source": [
    "squamous_cell_carcinoma_train = os.listdir('../dataset/Skin cancer ISIC The International Skin Imaging Collaboration/Train/squamous cell carcinoma/')\n",
    "for i in range(len(squamous_cell_carcinoma_train)):\n",
    "    img = cv2.imread('../dataset/Skin cancer ISIC The International Skin Imaging Collaboration/Train/squamous cell carcinoma/' + squamous_cell_carcinoma_train[i])\n",
    "    cv2.imwrite('../dataset/Skin cancer ISIC The International Skin Imaging Collaboration/Train/squamous cell carcinoma/IMG-' + str(i+1) + '.jpg', img)\n",
    "    os.remove('../dataset/Skin cancer ISIC The International Skin Imaging Collaboration/Train/squamous cell carcinoma/' + squamous_cell_carcinoma_train[i])"
   ]
  },
  {
   "cell_type": "code",
   "execution_count": 13,
   "metadata": {},
   "outputs": [],
   "source": [
    "vascular_lesion_train = os.listdir('../dataset/Skin cancer ISIC The International Skin Imaging Collaboration/Train/vascular lesion/')\n",
    "for i in range(len(vascular_lesion_train)):\n",
    "    img = cv2.imread('../dataset/Skin cancer ISIC The International Skin Imaging Collaboration/Train/vascular lesion/' + vascular_lesion_train[i])\n",
    "    cv2.imwrite('../dataset/Skin cancer ISIC The International Skin Imaging Collaboration/Train/vascular lesion/IMG-' + str(i+1) + '.jpg', img)\n",
    "    os.remove('../dataset/Skin cancer ISIC The International Skin Imaging Collaboration/Train/vascular lesion/' + vascular_lesion_train[i])"
   ]
  },
  {
   "cell_type": "code",
   "execution_count": 14,
   "metadata": {},
   "outputs": [],
   "source": [
    "actinic_keratosis_test = os.listdir('../dataset/Skin cancer ISIC The International Skin Imaging Collaboration/Test/actinic keratosis/')\n",
    "for i in range(len(actinic_keratosis_test)):\n",
    "    img = cv2.imread('../dataset/Skin cancer ISIC The International Skin Imaging Collaboration/Test/actinic keratosis/' + actinic_keratosis_test[i])\n",
    "    cv2.imwrite('../dataset/Skin cancer ISIC The International Skin Imaging Collaboration/Test/actinic keratosis/IMG-' + str(i+1) + '.jpg', img)\n",
    "    os.remove('../dataset/Skin cancer ISIC The International Skin Imaging Collaboration/Test/actinic keratosis/' + actinic_keratosis_test[i])"
   ]
  },
  {
   "cell_type": "code",
   "execution_count": 15,
   "metadata": {},
   "outputs": [],
   "source": [
    "basal_cell_carcinoma_test = os.listdir('../dataset/Skin cancer ISIC The International Skin Imaging Collaboration/Test/basal cell carcinoma/')\n",
    "for i in range(len(basal_cell_carcinoma_test)):\n",
    "    img = cv2.imread('../dataset/Skin cancer ISIC The International Skin Imaging Collaboration/Test/basal cell carcinoma/' + basal_cell_carcinoma_test[i])\n",
    "    cv2.imwrite('../dataset/Skin cancer ISIC The International Skin Imaging Collaboration/Test/basal cell carcinoma/IMG-' + str(i+1) + '.jpg', img)\n",
    "    os.remove('../dataset/Skin cancer ISIC The International Skin Imaging Collaboration/Test/basal cell carcinoma/' + basal_cell_carcinoma_test[i])"
   ]
  },
  {
   "cell_type": "code",
   "execution_count": 16,
   "metadata": {},
   "outputs": [],
   "source": [
    "dermatofibroma_test = os.listdir('../dataset/Skin cancer ISIC The International Skin Imaging Collaboration/Test/dermatofibroma/')\n",
    "for i in range(len(dermatofibroma_test)):\n",
    "    img = cv2.imread('../dataset/Skin cancer ISIC The International Skin Imaging Collaboration/Test/dermatofibroma/' + dermatofibroma_test[i])\n",
    "    cv2.imwrite('../dataset/Skin cancer ISIC The International Skin Imaging Collaboration/Test/dermatofibroma/IMG-' + str(i+1) + '.jpg', img)\n",
    "    os.remove('../dataset/Skin cancer ISIC The International Skin Imaging Collaboration/Test/dermatofibroma/' + dermatofibroma_test[i])"
   ]
  },
  {
   "cell_type": "code",
   "execution_count": 17,
   "metadata": {},
   "outputs": [],
   "source": [
    "melanoma_test = os.listdir('../dataset/Skin cancer ISIC The International Skin Imaging Collaboration/Test/melanoma/')\n",
    "for i in range(len(melanoma_test)):\n",
    "    img = cv2.imread('../dataset/Skin cancer ISIC The International Skin Imaging Collaboration/Test/melanoma/' + melanoma_test[i])\n",
    "    cv2.imwrite('../dataset/Skin cancer ISIC The International Skin Imaging Collaboration/Test/melanoma/IMG-' + str(i+1) + '.jpg', img)\n",
    "    os.remove('../dataset/Skin cancer ISIC The International Skin Imaging Collaboration/Test/melanoma/' + melanoma_test[i])"
   ]
  },
  {
   "cell_type": "code",
   "execution_count": 18,
   "metadata": {},
   "outputs": [],
   "source": [
    "nevu_test = os.listdir('../dataset/Skin cancer ISIC The International Skin Imaging Collaboration/Test/nevus/')\n",
    "for i in range(len(nevu_test)):\n",
    "    img = cv2.imread('../dataset/Skin cancer ISIC The International Skin Imaging Collaboration/Test/nevus/' + nevu_test[i])\n",
    "    cv2.imwrite('../dataset/Skin cancer ISIC The International Skin Imaging Collaboration/Test/nevus/IMG-' + str(i+1) + '.jpg', img)\n",
    "    os.remove('../dataset/Skin cancer ISIC The International Skin Imaging Collaboration/Test/nevus/' + nevu_test[i])"
   ]
  },
  {
   "cell_type": "code",
   "execution_count": 19,
   "metadata": {},
   "outputs": [],
   "source": [
    "pigmented_benign_keratosis_test = os.listdir('../dataset/Skin cancer ISIC The International Skin Imaging Collaboration/Test/pigmented benign keratosis/')\n",
    "for i in range(len(pigmented_benign_keratosis_test)):\n",
    "    img = cv2.imread('../dataset/Skin cancer ISIC The International Skin Imaging Collaboration/Test/pigmented benign keratosis/' + pigmented_benign_keratosis_test[i])\n",
    "    cv2.imwrite('../dataset/Skin cancer ISIC The International Skin Imaging Collaboration/Test/pigmented benign keratosis/IMG-' + str(i+1) + '.jpg', img)\n",
    "    os.remove('../dataset/Skin cancer ISIC The International Skin Imaging Collaboration/Test/pigmented benign keratosis/' + pigmented_benign_keratosis_test[i])"
   ]
  },
  {
   "cell_type": "code",
   "execution_count": 20,
   "metadata": {},
   "outputs": [],
   "source": [
    "seborrheic_keratosis_test = os.listdir('../dataset/Skin cancer ISIC The International Skin Imaging Collaboration/Test/seborrheic keratosis/')\n",
    "for i in range(len(seborrheic_keratosis_test)):\n",
    "    img = cv2.imread('../dataset/Skin cancer ISIC The International Skin Imaging Collaboration/Test/seborrheic keratosis/' + seborrheic_keratosis_test[i])\n",
    "    cv2.imwrite('../dataset/Skin cancer ISIC The International Skin Imaging Collaboration/Test/seborrheic keratosis/IMG-' + str(i+1) + '.jpg', img)\n",
    "    os.remove('../dataset/Skin cancer ISIC The International Skin Imaging Collaboration/Test/seborrheic keratosis/' + seborrheic_keratosis_test[i])"
   ]
  },
  {
   "cell_type": "code",
   "execution_count": 21,
   "metadata": {},
   "outputs": [],
   "source": [
    "squamous_cell_carcinoma_test = os.listdir('../dataset/Skin cancer ISIC The International Skin Imaging Collaboration/Test/squamous cell carcinoma/')\n",
    "for i in range(len(squamous_cell_carcinoma_test)):\n",
    "    img = cv2.imread('../dataset/Skin cancer ISIC The International Skin Imaging Collaboration/Test/squamous cell carcinoma/' + squamous_cell_carcinoma_test[i])\n",
    "    cv2.imwrite('../dataset/Skin cancer ISIC The International Skin Imaging Collaboration/Test/squamous cell carcinoma/IMG-' + str(i+1) + '.jpg', img)\n",
    "    os.remove('../dataset/Skin cancer ISIC The International Skin Imaging Collaboration/Test/squamous cell carcinoma/' + squamous_cell_carcinoma_test[i])"
   ]
  },
  {
   "cell_type": "code",
   "execution_count": null,
   "metadata": {},
   "outputs": [],
   "source": [
    "vascular_lesion_test = os.listdir('../dataset/Skin cancer ISIC The International Skin Imaging Collaboration/Test/vascular lesion/')\n",
    "for i in range(len(vascular_lesion_test)):\n",
    "    img = cv2.imread('../dataset/Skin cancer ISIC The International Skin Imaging Collaboration/Test/vascular lesion/' + vascular_lesion_test[i])\n",
    "    cv2.imwrite('../dataset/Skin cancer ISIC The International Skin Imaging Collaboration/Test/vascular lesion/IMG-' + str(i+1) + '.jpg', img)\n",
    "    os.remove('../dataset/Skin cancer ISIC The International Skin Imaging Collaboration/Test/vascular lesion/' + vascular_lesion_test[i])"
   ]
  }
 ],
 "metadata": {
  "kernelspec": {
   "display_name": "base",
   "language": "python",
   "name": "python3"
  },
  "language_info": {
   "codemirror_mode": {
    "name": "ipython",
    "version": 3
   },
   "file_extension": ".py",
   "mimetype": "text/x-python",
   "name": "python",
   "nbconvert_exporter": "python",
   "pygments_lexer": "ipython3",
   "version": "3.9.12"
  },
  "orig_nbformat": 4,
  "vscode": {
   "interpreter": {
    "hash": "88279d2366fe020547cde40dd65aa0e3aa662a6ec1f3ca12d88834876c85e1a6"
   }
  }
 },
 "nbformat": 4,
 "nbformat_minor": 2
}
