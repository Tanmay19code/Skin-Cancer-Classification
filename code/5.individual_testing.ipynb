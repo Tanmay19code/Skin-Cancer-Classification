{
 "cells": [
  {
   "cell_type": "code",
   "execution_count": 1,
   "metadata": {},
   "outputs": [],
   "source": [
    "import numpy as np\n",
    "import matplotlib.pyplot as plt\n",
    "import matplotlib.image as mpimg\n",
    "import matplotlib.patches as mpatches\n",
    "import pandas as pd\n",
    "import seaborn as sns\n",
    "import os\n",
    "import cv2\n",
    "import ast"
   ]
  },
  {
   "cell_type": "code",
   "execution_count": 2,
   "metadata": {},
   "outputs": [],
   "source": [
    "\n",
    "#! function to return a vector of frequency of all intensities from 0 to 255\n",
    "\n",
    "def get_img_vector(img):\n",
    "    img_vector = np.zeros(256)\n",
    "    for i in range(0, img.shape[0]):\n",
    "        for j in range(0, img.shape[1]):\n",
    "            img_vector[img[i][j]] += 1\n",
    "    return img_vector\n",
    "\n",
    "\n",
    "#! function to calculate euclidean distance between two vectors\n",
    "\n",
    "def euclidean_distance(vector1, vector2):\n",
    "    try: \n",
    "        distance = 0.0\n",
    "        for i in range(len(vector1)):\n",
    "            distance += np.square(vector1[i] - vector2[i])\n",
    "        distance = np.sqrt(distance)\n",
    "        return distance\n",
    "    except Exception as e:\n",
    "        print(\"Error\")\n",
    "        print(e)\n",
    "        # print(i,j)\n",
    "        return 0\n",
    "\n",
    "#! function to calculate manhattan distance between two vectors\n",
    "def manhattan_distance(vector1, vector2):\n",
    "    return np.sum(np.abs(vector1 - vector2))"
   ]
  },
  {
   "cell_type": "code",
   "execution_count": 3,
   "metadata": {},
   "outputs": [],
   "source": [
    "\n",
    "# functions for file handling\n",
    "\n",
    "def formatString(string):\n",
    "    string = string.replace(\"array([\", \"[\")\n",
    "    string = string.replace(\"]),array([\", \"],[\")\n",
    "    string = string.replace(\"])\", \"]\")\n",
    "    return string\n",
    "\n",
    "\n",
    "def convertToArray(string):\n",
    "    listArr = ast.literal_eval(string)\n",
    "    return listArr\n",
    "\n",
    "\n",
    "def tupleToList(listArr):\n",
    "    array = []\n",
    "    for i in range(len(listArr)):\n",
    "        array.append(listArr[i])\n",
    "    return array\n",
    "\n",
    "def loadFile(path):\n",
    "    with open(path, 'r') as f:\n",
    "        vector = f.read()\n",
    "        vector = formatString(vector)\n",
    "        vector = convertToArray(vector)\n",
    "        vector = tupleToList(vector)\n",
    "        f.close()\n",
    "    return vector\n",
    "\n",
    "        \n",
    "def saveFile(path, vector):\n",
    "    with open(path, 'w') as f:\n",
    "        f.write(str(vector))\n",
    "        f.close()"
   ]
  },
  {
   "cell_type": "code",
   "execution_count": 4,
   "metadata": {},
   "outputs": [],
   "source": [
    "def accuracy(lengthTestVectors, lengthCorrectlyClassified):\n",
    "    return (lengthCorrectlyClassified/lengthTestVectors)*100\n",
    "\n",
    "def getDegreeOfMembership(distance, gamma):\n",
    "\n",
    "    temp = gamma * distance\n",
    "\n",
    "    if(temp > 1):\n",
    "        return 0\n",
    "    elif(temp == 0):\n",
    "        return 1\n",
    "    else:\n",
    "        return 1-temp\n",
    "\n",
    "\n",
    "def getMaximumMembership(test_vector, prototypes, gamma):\n",
    "    maxDegree = getDegreeOfMembership(\n",
    "        euclidean_distance(test_vector, prototypes[0]), gamma)\n",
    "    index = 0\n",
    "\n",
    "    for i in range(1, len(prototypes)):\n",
    "        degree = getDegreeOfMembership(\n",
    "            euclidean_distance(test_vector, prototypes[i]), gamma)\n",
    "        if degree > maxDegree:\n",
    "            maxDegree = degree\n",
    "            index = i\n",
    "    return index, maxDegree\n",
    "\n",
    "\n",
    "def assignClass( actinic_keratosis_membership,  basal_cell_carcinoma_membership, dermatofibroma_membership, melanoma_membership, nevus_membership, pigmented_benign_keratosis_membership, seborrheic_keratosis_membership, squamous_cell_carcinoma_membership, vascular_lesion_membership):\n",
    "    maximum = max(actinic_keratosis_membership, basal_cell_carcinoma_membership, dermatofibroma_membership, melanoma_membership, nevus_membership, pigmented_benign_keratosis_membership, seborrheic_keratosis_membership, squamous_cell_carcinoma_membership, vascular_lesion_membership)\n",
    "    if maximum == actinic_keratosis_membership:\n",
    "        return \"actinic_keratosis\"\n",
    "    elif maximum == basal_cell_carcinoma_membership:\n",
    "        return \"basal_cell_carcinoma\"\n",
    "    elif maximum == dermatofibroma_membership:\n",
    "        return \"dermatofibroma\"\n",
    "    elif maximum == melanoma_membership:\n",
    "        return \"melanoma\"\n",
    "    elif maximum == nevus_membership:\n",
    "        return \"nevus\"\n",
    "    elif maximum == pigmented_benign_keratosis_membership:\n",
    "        return \"pigmented_benign_keratosis\"\n",
    "    elif maximum == seborrheic_keratosis_membership:\n",
    "        return \"seborrheic_keratosis\"\n",
    "    elif maximum == squamous_cell_carcinoma_membership:\n",
    "        return \"squamous_cell_carcinoma\"\n",
    "    elif maximum == vascular_lesion_membership:\n",
    "        return \"vascular_lesion\"\n",
    "    else:\n",
    "        return \"none\""
   ]
  },
  {
   "cell_type": "code",
   "execution_count": 5,
   "metadata": {},
   "outputs": [],
   "source": [
    "\n",
    "# read the test vectors\n",
    "\n",
    "actinic_keratosis_test_vectors = loadFile(\"../features/normalised/Test/normalised_actinic_keratosis_test_vectors.txt\")\n",
    "basal_cell_carcinoma_test_vectors = loadFile(\"../features/normalised/Test/normalised_basal_cell_carcinoma_test_vectors.txt\")\n",
    "dermatofibroma_test_vectors = loadFile(\"../features/normalised/Test/normalised_dermatofibroma_test_vectors.txt\")\n",
    "melanoma_test_vectors = loadFile(\"../features/normalised/Test/normalised_melanoma_test_vectors.txt\")\n",
    "nevus_test_vectors = loadFile(\"../features/normalised/Test/normalised_nevus_test_vectors.txt\")\n",
    "pigmented_benign_keratosis_test_vectors = loadFile(\"../features/normalised/Test/normalised_pigmented_benign_keratosis_test_vectors.txt\")\n",
    "seborrheic_keratosis_test_vectors = loadFile(\"../features/normalised/Test/normalised_seborrheic_keratosis_test_vectors.txt\")\n",
    "squamous_cell_carcinoma_test_vectors = loadFile(\"../features/normalised/Test/normalised_squamous_cell_carcinoma_test_vectors.txt\")\n",
    "vascular_lesion_test_vectors = loadFile(\"../features/normalised/Test/normalised_vascular_lesion_test_vectors.txt\")"
   ]
  },
  {
   "cell_type": "code",
   "execution_count": 6,
   "metadata": {},
   "outputs": [],
   "source": [
    "# read the prototypes\n",
    "\n",
    "actinic_keratosis_prototypes = loadFile('../features/prototypes/actinic_keratosis_prototypes_0.008.txt')\n",
    "basal_cell_carcinoma_prototypes = loadFile('../features/prototypes/basal_cell_carcinoma_prototypes_0.008.txt')\n",
    "dermatofibroma_prototypes = loadFile('../features/prototypes/dermatofibroma_prototypes_0.008.txt')\n",
    "melanoma_prototypes = loadFile('../features/prototypes/melanoma_prototypes_0.05.txt')\n",
    "nevus_prototypes = loadFile('../features/prototypes/nevus_prototypes_0.05.txt')\n",
    "pigmented_benign_keratosis_prototypes = loadFile('../features/prototypes/pigmented_benign_keratosis_prototypes_0.008.txt')\n",
    "seborrheic_keratosis_prototypes = loadFile('../features/prototypes/seborrheic_keratosis_prototypes_0.05.txt')\n",
    "squamous_cell_carcinoma_prototypes = loadFile('../features/prototypes/squamous_cell_carcinoma_prototypes_0.008.txt')\n",
    "vascular_lesion_prototypes = loadFile('../features/prototypes/vascular_lesion_prototypes_0.008.txt')"
   ]
  },
  {
   "cell_type": "code",
   "execution_count": 13,
   "metadata": {},
   "outputs": [
    {
     "name": "stdout",
     "output_type": "stream",
     "text": [
      "actinic_keratosis_membership:  0.969301182503474\n",
      "basal_cell_carcinoma_membership:  0.9775129334642472\n",
      "dermatofibroma_membership:  0.9745376303141594\n",
      "melanoma_membership:  0.9751774410317938\n",
      "nevus_membership:  0.9783684666524547\n",
      "pigmented_benign_keratosis_membership:  0.9743698276225625\n",
      "seborrheic_keratosis_membership:  0.9750823103639708\n",
      "squamous_cell_carcinoma_membership:  0.9736720862993384\n",
      "vascular_lesion_membership:  0.976865955982815\n"
     ]
    }
   ],
   "source": [
    "\n",
    "\n",
    "test_vector = nevus_test_vectors[0]\n",
    "\n",
    "actinic_keratosis_index, actinic_keratosis_membership = getMaximumMembership(test_vector, actinic_keratosis_prototypes, 0.5)\n",
    "basal_cell_carcinoma_index, basal_cell_carcinoma_membership = getMaximumMembership(test_vector, basal_cell_carcinoma_prototypes, 0.5)\n",
    "dermatofibroma_index, dermatofibroma_membership = getMaximumMembership(test_vector, dermatofibroma_prototypes, 0.5)\n",
    "melanoma_index, melanoma_membership = getMaximumMembership(test_vector, melanoma_prototypes, 0.5)\n",
    "nevus_index, nevus_membership = getMaximumMembership(test_vector, nevus_prototypes, 0.5)\n",
    "pigmented_benign_keratosis_index, pigmented_benign_keratosis_membership = getMaximumMembership(test_vector, pigmented_benign_keratosis_prototypes, 0.5)\n",
    "seborrheic_keratosis_index, seborrheic_keratosis_membership = getMaximumMembership(test_vector, seborrheic_keratosis_prototypes, 0.5)\n",
    "squamous_cell_carcinoma_index, squamous_cell_carcinoma_membership = getMaximumMembership(test_vector, squamous_cell_carcinoma_prototypes, 0.5)\n",
    "vascular_lesion_index, vascular_lesion_membership = getMaximumMembership(test_vector, vascular_lesion_prototypes, 0.5)\n",
    "\n",
    "print(\"actinic_keratosis_membership: \", actinic_keratosis_membership)\n",
    "print(\"basal_cell_carcinoma_membership: \", basal_cell_carcinoma_membership)\n",
    "print(\"dermatofibroma_membership: \", dermatofibroma_membership)\n",
    "print(\"melanoma_membership: \", melanoma_membership)\n",
    "print(\"nevus_membership: \", nevus_membership)\n",
    "print(\"pigmented_benign_keratosis_membership: \", pigmented_benign_keratosis_membership)\n",
    "print(\"seborrheic_keratosis_membership: \", seborrheic_keratosis_membership)\n",
    "print(\"squamous_cell_carcinoma_membership: \", squamous_cell_carcinoma_membership)\n",
    "print(\"vascular_lesion_membership: \", vascular_lesion_membership)\n"
   ]
  },
  {
   "cell_type": "code",
   "execution_count": 14,
   "metadata": {},
   "outputs": [
    {
     "name": "stdout",
     "output_type": "stream",
     "text": [
      "nevus\n"
     ]
    }
   ],
   "source": [
    "# assignClass\n",
    "\n",
    "assignedClass = assignClass(actinic_keratosis_membership,  basal_cell_carcinoma_membership, dermatofibroma_membership, melanoma_membership, nevus_membership, pigmented_benign_keratosis_membership, seborrheic_keratosis_membership, squamous_cell_carcinoma_membership, vascular_lesion_membership)\n",
    "\n",
    "print(assignedClass)"
   ]
  }
 ],
 "metadata": {
  "kernelspec": {
   "display_name": "base",
   "language": "python",
   "name": "python3"
  },
  "language_info": {
   "codemirror_mode": {
    "name": "ipython",
    "version": 3
   },
   "file_extension": ".py",
   "mimetype": "text/x-python",
   "name": "python",
   "nbconvert_exporter": "python",
   "pygments_lexer": "ipython3",
   "version": "3.9.12"
  },
  "orig_nbformat": 4
 },
 "nbformat": 4,
 "nbformat_minor": 2
}
